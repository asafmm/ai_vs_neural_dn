{
 "cells": [
  {
   "cell_type": "code",
   "execution_count": 1,
   "metadata": {},
   "outputs": [],
   "source": [
    "import pandas as pd\n",
    "import glob"
   ]
  },
  {
   "cell_type": "code",
   "execution_count": 8,
   "metadata": {},
   "outputs": [],
   "source": [
    "files = glob.glob('stimuli/*.png')"
   ]
  },
  {
   "cell_type": "code",
   "execution_count": 9,
   "metadata": {},
   "outputs": [
    {
     "data": {
      "text/plain": [
       "['stimuli\\\\Baracke.png',\n",
       " 'stimuli\\\\Branflakes.png',\n",
       " 'stimuli\\\\Branflakesextra.png',\n",
       " 'stimuli\\\\Cafeelite.png',\n",
       " 'stimuli\\\\Chocolatemilk.png',\n",
       " 'stimuli\\\\ChocolateSpread.png',\n",
       " 'stimuli\\\\CocaCola2L.png',\n",
       " 'stimuli\\\\Colgate.png',\n",
       " 'stimuli\\\\Filtuna.png',\n",
       " 'stimuli\\\\Fitness.png',\n",
       " 'stimuli\\\\Fitness_Chocolate.png',\n",
       " 'stimuli\\\\FuzeTea.png',\n",
       " 'stimuli\\\\FuzeTeaGreen.png',\n",
       " 'stimuli\\\\GelDeLin.png',\n",
       " 'stimuli\\\\HEINZ.PNG',\n",
       " 'stimuli\\\\KifKef.PNG',\n",
       " 'stimuli\\\\Kikkoman.PNG',\n",
       " 'stimuli\\\\Milka.PNG',\n",
       " 'stimuli\\\\Neviot.PNG',\n",
       " 'stimuli\\\\Oreo.PNG',\n",
       " 'stimuli\\\\Parachocolate.PNG',\n",
       " 'stimuli\\\\Prince.PNG',\n",
       " 'stimuli\\\\Quaker.PNG',\n",
       " 'stimuli\\\\Sano99.PNG',\n",
       " 'stimuli\\\\Smarties.PNG',\n",
       " 'stimuli\\\\Splendid.PNG',\n",
       " 'stimuli\\\\Tapuchips.PNG',\n",
       " 'stimuli\\\\Tuna_ToGo.png',\n",
       " 'stimuli\\\\Wissotzky.png',\n",
       " 'stimuli\\\\YadMordechai.png',\n",
       " 'stimuli\\\\Zipperbigbag.png',\n",
       " 'stimuli\\\\Zippersmallbag.png']"
      ]
     },
     "execution_count": 9,
     "metadata": {},
     "output_type": "execute_result"
    }
   ],
   "source": [
    "files"
   ]
  },
  {
   "cell_type": "code",
   "execution_count": 10,
   "metadata": {},
   "outputs": [],
   "source": [
    "stimuli_df = pd.DataFrame({'target1':files[:10], 'target2':files[10:20], 'distracter':files[20:30]})\n",
    "stimuli_df.to_csv('stimuli.csv')"
   ]
  },
  {
   "cell_type": "code",
   "execution_count": 11,
   "metadata": {},
   "outputs": [
    {
     "data": {
      "text/html": [
       "<div>\n",
       "<style scoped>\n",
       "    .dataframe tbody tr th:only-of-type {\n",
       "        vertical-align: middle;\n",
       "    }\n",
       "\n",
       "    .dataframe tbody tr th {\n",
       "        vertical-align: top;\n",
       "    }\n",
       "\n",
       "    .dataframe thead th {\n",
       "        text-align: right;\n",
       "    }\n",
       "</style>\n",
       "<table border=\"1\" class=\"dataframe\">\n",
       "  <thead>\n",
       "    <tr style=\"text-align: right;\">\n",
       "      <th></th>\n",
       "      <th>target1</th>\n",
       "      <th>target2</th>\n",
       "      <th>distracter</th>\n",
       "    </tr>\n",
       "  </thead>\n",
       "  <tbody>\n",
       "    <tr>\n",
       "      <th>0</th>\n",
       "      <td>stimuli\\Baracke.png</td>\n",
       "      <td>stimuli\\Fitness_Chocolate.png</td>\n",
       "      <td>stimuli\\Parachocolate.PNG</td>\n",
       "    </tr>\n",
       "    <tr>\n",
       "      <th>1</th>\n",
       "      <td>stimuli\\Branflakes.png</td>\n",
       "      <td>stimuli\\FuzeTea.png</td>\n",
       "      <td>stimuli\\Prince.PNG</td>\n",
       "    </tr>\n",
       "    <tr>\n",
       "      <th>2</th>\n",
       "      <td>stimuli\\Branflakesextra.png</td>\n",
       "      <td>stimuli\\FuzeTeaGreen.png</td>\n",
       "      <td>stimuli\\Quaker.PNG</td>\n",
       "    </tr>\n",
       "    <tr>\n",
       "      <th>3</th>\n",
       "      <td>stimuli\\Cafeelite.png</td>\n",
       "      <td>stimuli\\GelDeLin.png</td>\n",
       "      <td>stimuli\\Sano99.PNG</td>\n",
       "    </tr>\n",
       "    <tr>\n",
       "      <th>4</th>\n",
       "      <td>stimuli\\Chocolatemilk.png</td>\n",
       "      <td>stimuli\\HEINZ.PNG</td>\n",
       "      <td>stimuli\\Smarties.PNG</td>\n",
       "    </tr>\n",
       "    <tr>\n",
       "      <th>5</th>\n",
       "      <td>stimuli\\ChocolateSpread.png</td>\n",
       "      <td>stimuli\\KifKef.PNG</td>\n",
       "      <td>stimuli\\Splendid.PNG</td>\n",
       "    </tr>\n",
       "    <tr>\n",
       "      <th>6</th>\n",
       "      <td>stimuli\\CocaCola2L.png</td>\n",
       "      <td>stimuli\\Kikkoman.PNG</td>\n",
       "      <td>stimuli\\Tapuchips.PNG</td>\n",
       "    </tr>\n",
       "    <tr>\n",
       "      <th>7</th>\n",
       "      <td>stimuli\\Colgate.png</td>\n",
       "      <td>stimuli\\Milka.PNG</td>\n",
       "      <td>stimuli\\Tuna_ToGo.png</td>\n",
       "    </tr>\n",
       "    <tr>\n",
       "      <th>8</th>\n",
       "      <td>stimuli\\Filtuna.png</td>\n",
       "      <td>stimuli\\Neviot.PNG</td>\n",
       "      <td>stimuli\\Wissotzky.png</td>\n",
       "    </tr>\n",
       "    <tr>\n",
       "      <th>9</th>\n",
       "      <td>stimuli\\Fitness.png</td>\n",
       "      <td>stimuli\\Oreo.PNG</td>\n",
       "      <td>stimuli\\YadMordechai.png</td>\n",
       "    </tr>\n",
       "  </tbody>\n",
       "</table>\n",
       "</div>"
      ],
      "text/plain": [
       "                       target1                        target2  \\\n",
       "0          stimuli\\Baracke.png  stimuli\\Fitness_Chocolate.png   \n",
       "1       stimuli\\Branflakes.png            stimuli\\FuzeTea.png   \n",
       "2  stimuli\\Branflakesextra.png       stimuli\\FuzeTeaGreen.png   \n",
       "3        stimuli\\Cafeelite.png           stimuli\\GelDeLin.png   \n",
       "4    stimuli\\Chocolatemilk.png              stimuli\\HEINZ.PNG   \n",
       "5  stimuli\\ChocolateSpread.png             stimuli\\KifKef.PNG   \n",
       "6       stimuli\\CocaCola2L.png           stimuli\\Kikkoman.PNG   \n",
       "7          stimuli\\Colgate.png              stimuli\\Milka.PNG   \n",
       "8          stimuli\\Filtuna.png             stimuli\\Neviot.PNG   \n",
       "9          stimuli\\Fitness.png               stimuli\\Oreo.PNG   \n",
       "\n",
       "                  distracter  \n",
       "0  stimuli\\Parachocolate.PNG  \n",
       "1         stimuli\\Prince.PNG  \n",
       "2         stimuli\\Quaker.PNG  \n",
       "3         stimuli\\Sano99.PNG  \n",
       "4       stimuli\\Smarties.PNG  \n",
       "5       stimuli\\Splendid.PNG  \n",
       "6      stimuli\\Tapuchips.PNG  \n",
       "7      stimuli\\Tuna_ToGo.png  \n",
       "8      stimuli\\Wissotzky.png  \n",
       "9   stimuli\\YadMordechai.png  "
      ]
     },
     "execution_count": 11,
     "metadata": {},
     "output_type": "execute_result"
    }
   ],
   "source": [
    "stimuli_df"
   ]
  },
  {
   "cell_type": "code",
   "execution_count": 12,
   "metadata": {},
   "outputs": [],
   "source": [
    "pd.DataFrame({'image':files}).to_csv('stimuli.csv')"
   ]
  }
 ],
 "metadata": {
  "kernelspec": {
   "display_name": "decoy",
   "language": "python",
   "name": "python3"
  },
  "language_info": {
   "codemirror_mode": {
    "name": "ipython",
    "version": 3
   },
   "file_extension": ".py",
   "mimetype": "text/x-python",
   "name": "python",
   "nbconvert_exporter": "python",
   "pygments_lexer": "ipython3",
   "version": "3.10.4"
  }
 },
 "nbformat": 4,
 "nbformat_minor": 2
}
