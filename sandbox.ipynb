{
 "cells": [
  {
   "cell_type": "code",
   "execution_count": 2,
   "metadata": {},
   "outputs": [],
   "source": [
    "import pandas as pd\n",
    "import glob"
   ]
  },
  {
   "cell_type": "code",
   "execution_count": 3,
   "metadata": {},
   "outputs": [],
   "source": [
    "files = glob.glob('stimuli/*')"
   ]
  },
  {
   "cell_type": "code",
   "execution_count": 4,
   "metadata": {},
   "outputs": [
    {
     "data": {
      "text/plain": [
       "['stimuli/Zipperbigbag.PNG',\n",
       " 'stimuli/Zippersmallbag.PNG',\n",
       " 'stimuli/FuzeTea.PNG',\n",
       " 'stimuli/HEINZ.PNG',\n",
       " 'stimuli/Filtuna.PNG',\n",
       " 'stimuli/Smarties.PNG',\n",
       " 'stimuli/Sano99.PNG',\n",
       " 'stimuli/Colgate.PNG',\n",
       " 'stimuli/Cafeelite.PNG',\n",
       " 'stimuli/Tuna_ToGo.PNG',\n",
       " 'stimuli/Kikkoman.PNG',\n",
       " 'stimuli/Parachocolate.PNG',\n",
       " 'stimuli/Prince.PNG',\n",
       " 'stimuli/Wissotzky.PNG',\n",
       " 'stimuli/Chocolatemilk.PNG',\n",
       " 'stimuli/Splendid.PNG',\n",
       " 'stimuli/CocaCola2L.PNG',\n",
       " 'stimuli/Quaker.PNG',\n",
       " 'stimuli/Neviot.PNG',\n",
       " 'stimuli/KifKef.PNG',\n",
       " 'stimuli/Branflakes.PNG',\n",
       " 'stimuli/ChocolateSpread.PNG',\n",
       " 'stimuli/Fitness.PNG',\n",
       " 'stimuli/Baracke.PNG',\n",
       " 'stimuli/Milka.PNG',\n",
       " 'stimuli/YadMordechai.PNG',\n",
       " 'stimuli/Oreo.PNG',\n",
       " 'stimuli/Fitness_Chocolate.PNG',\n",
       " 'stimuli/Branflakesextra.PNG',\n",
       " 'stimuli/FuzeTeaGreen.PNG',\n",
       " 'stimuli/Tapuchips.PNG',\n",
       " 'stimuli/GelDeLin.PNG']"
      ]
     },
     "execution_count": 4,
     "metadata": {},
     "output_type": "execute_result"
    }
   ],
   "source": [
    "files"
   ]
  }
 ],
 "metadata": {
  "kernelspec": {
   "display_name": "decoy",
   "language": "python",
   "name": "python3"
  },
  "language_info": {
   "codemirror_mode": {
    "name": "ipython",
    "version": 3
   },
   "file_extension": ".py",
   "mimetype": "text/x-python",
   "name": "python",
   "nbconvert_exporter": "python",
   "pygments_lexer": "ipython3",
   "version": "3.11.0"
  }
 },
 "nbformat": 4,
 "nbformat_minor": 2
}
